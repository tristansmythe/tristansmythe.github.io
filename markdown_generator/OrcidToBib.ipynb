{
 "cells": [
  {
   "cell_type": "code",
   "execution_count": 15,
   "id": "01f0c5c2-619a-48e0-bb7c-e5e0be009f0e",
   "metadata": {},
   "outputs": [],
   "source": [
    "orcid = '0000-0003-0805-7952' # Fill your orcid here"
   ]
  },
  {
   "cell_type": "code",
   "execution_count": 16,
   "id": "2fe4bc4e-4574-4322-8b18-0c4d33a749fa",
   "metadata": {},
   "outputs": [
    {
     "name": "stdout",
     "output_type": "stream",
     "text": [
      "Requirement already satisfied: requests in /usr/src/app/.venv/lib/python3.13/site-packages (2.32.4)\n",
      "Requirement already satisfied: charset_normalizer<4,>=2 in /usr/src/app/.venv/lib/python3.13/site-packages (from requests) (3.4.3)\n",
      "Requirement already satisfied: idna<4,>=2.5 in /usr/src/app/.venv/lib/python3.13/site-packages (from requests) (3.10)\n",
      "Requirement already satisfied: urllib3<3,>=1.21.1 in /usr/src/app/.venv/lib/python3.13/site-packages (from requests) (2.5.0)\n",
      "Requirement already satisfied: certifi>=2017.4.17 in /usr/src/app/.venv/lib/python3.13/site-packages (from requests) (2025.8.3)\n",
      "Note: you may need to restart the kernel to use updated packages.\n"
     ]
    }
   ],
   "source": [
    "%pip install requests\n",
    "import requests\n",
    "import os # for crossref?"
   ]
  },
  {
   "cell_type": "markdown",
   "id": "ce04df0f",
   "metadata": {},
   "source": []
  },
  {
   "cell_type": "markdown",
   "id": "44a8b6cd-4034-4fc4-85a8-e3431dc564f1",
   "metadata": {},
   "source": [
    "We use the `/works` api to list all works related to the orcid. This gives a summary of all works, so citation information is not included. We collect the `put-code` of all works to retrieve the citation information later."
   ]
  },
  {
   "cell_type": "code",
   "execution_count": 17,
   "id": "3b04331e-4149-4ca3-a0aa-89e3ba892723",
   "metadata": {},
   "outputs": [],
   "source": [
    "# Step 1: Get all works from ORCID\n",
    "response = requests.get('https://pub.orcid.org/v3.0/{}/works'.format(orcid),\n",
    "                        headers={\"Accept\": \"application/orcid+json\" })\n",
    "record = response.json()"
   ]
  },
  {
   "cell_type": "code",
   "execution_count": 18,
   "id": "16f7c42d-623b-421a-8d87-bbb389313e3b",
   "metadata": {
    "scrolled": true
   },
   "outputs": [],
   "source": [
    "put_codes = []\n",
    "for work in record['group']:\n",
    "    put_code = work['work-summary'][0]['put-code']\n",
    "    put_codes.append(put_code)\n",
    "put_code = put_codes[0]\n",
    "\n",
    "citations = [] # moved this here from the for put_code in put_codes loop"
   ]
  },
  {
   "cell_type": "code",
   "execution_count": 19,
   "id": "080bc514",
   "metadata": {},
   "outputs": [],
   "source": [
    "# Step 2: Define helper to fetch BibTeX from Crossref\n",
    "def get_bibtex_from_doi(doi):\n",
    "    url = f'https://api.crossref.org/works/{doi}/transform/application/x-bibtex'\n",
    "    response = requests.get(url)\n",
    "    if response.status_code == 200:\n",
    "        return response.text\n",
    "    else:\n",
    "        print(f\"❌ Failed to fetch citation for DOI: {doi}\")\n",
    "        return None"
   ]
  },
  {
   "cell_type": "markdown",
   "id": "25e5d2aa-5233-486e-abce-a0d07a36c5ce",
   "metadata": {},
   "source": [
    "We use the `/<orcid>/work/<put-code>` endpoint to retrieve the citation information for each record."
   ]
  },
  {
   "cell_type": "code",
   "execution_count": 20,
   "id": "dd797a16-0d91-4271-8e1e-b82579a07e45",
   "metadata": {},
   "outputs": [],
   "source": [
    "# Step 3: Loop through each work and collect citation\n",
    "for put_code in put_codes:\n",
    "    response = requests.get('https://pub.orcid.org/v3.0/{}/work/{}'.format(orcid, put_code),\n",
    "                            headers={\"Accept\": \"application/orcid+json\" })\n",
    "    work = response.json()\n",
    "    \n",
    "    # Try ORCID citation first\n",
    "    if work.get('citation') and work['citation'].get('citation-value'):\n",
    "        citations.append(work['citation']['citation-value'])\n",
    "        continue\n",
    "    \n",
    "    # If no citation, try Crossref via DOI\n",
    "    for ext_id in work.get('external-ids', {}).get('external-id', []):\n",
    "        if ext_id['external-id-type'].lower() == 'doi':\n",
    "            doi = ext_id['external-id-value']\n",
    "            bibtex = get_bibtex_from_doi(doi)\n",
    "            if bibtex:\n",
    "                citations.append(bibtex)\n",
    "            break  # Only use the first DOI found"
   ]
  },
  {
   "cell_type": "code",
   "execution_count": 21,
   "id": "ad763df9-261f-41f3-bc32-00921d0a4e11",
   "metadata": {},
   "outputs": [
    {
     "name": "stdout",
     "output_type": "stream",
     "text": [
      "✅ Successfully saved 8 citations to pubs.bib\n"
     ]
    }
   ],
   "source": [
    "# Step 4: Write all citations to pubs.bib\n",
    "with open('pubs.bib', 'w') as bibfile:\n",
    "    for citation in citations:\n",
    "        bibfile.write(citation)\n",
    "        bibfile.write('\\n')\n",
    "\n",
    "print(f\"✅ Successfully saved {len(citations)} citations to pubs.bib\")"
   ]
  }
 ],
 "metadata": {
  "kernelspec": {
   "display_name": ".venv",
   "language": "python",
   "name": "python3"
  },
  "language_info": {
   "codemirror_mode": {
    "name": "ipython",
    "version": 3
   },
   "file_extension": ".py",
   "mimetype": "text/x-python",
   "name": "python",
   "nbconvert_exporter": "python",
   "pygments_lexer": "ipython3",
   "version": "3.13.5"
  }
 },
 "nbformat": 4,
 "nbformat_minor": 5
}
